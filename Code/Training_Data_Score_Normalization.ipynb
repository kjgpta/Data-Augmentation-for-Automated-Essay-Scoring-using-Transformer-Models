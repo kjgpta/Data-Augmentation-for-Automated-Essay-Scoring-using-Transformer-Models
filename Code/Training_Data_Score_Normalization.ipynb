{
  "cells": [
    {
      "cell_type": "code",
      "execution_count": null,
      "metadata": {
        "id": "94CYzKcVryuV"
      },
      "outputs": [],
      "source": [
        "import pandas as pd"
      ]
    },
    {
      "cell_type": "markdown",
      "source": [
        "# Extracting each essay from the training set"
      ],
      "metadata": {
        "id": "QnyydI3iC2Cc"
      }
    },
    {
      "cell_type": "code",
      "execution_count": null,
      "metadata": {
        "id": "sYlfLCCqrHHp"
      },
      "outputs": [],
      "source": [
        "df = pd.read_csv('training_set.csv')"
      ]
    },
    {
      "cell_type": "code",
      "execution_count": null,
      "metadata": {
        "id": "CvAF_46drxYs"
      },
      "outputs": [],
      "source": [
        "df1 = df[df[\"essay_set\"] == 1]\n",
        "df2 = df[df[\"essay_set\"] == 2]\n",
        "df3 = df[df[\"essay_set\"] == 3]\n",
        "df4 = df[df[\"essay_set\"] == 4]\n",
        "df5 = df[df[\"essay_set\"] == 5]\n",
        "df6 = df[df[\"essay_set\"] == 6]\n",
        "df7 = df[df[\"essay_set\"] == 7]\n",
        "df8 = df[df[\"essay_set\"] == 8]"
      ]
    },
    {
      "cell_type": "code",
      "execution_count": null,
      "metadata": {
        "id": "RzXI0FMar2QR"
      },
      "outputs": [],
      "source": [
        "df1 = df1.loc[:, ['essay_set','essay','domain1_score']]\n",
        "df2 = df2.loc[:, ['essay_set','essay','domain1_score','domain2_score']]\n",
        "df3 = df3.loc[:, ['essay_set','essay','domain1_score']]\n",
        "df4 = df4.loc[:, ['essay_set','essay','domain1_score']]\n",
        "df5 = df5.loc[:, ['essay_set','essay','domain1_score']]\n",
        "df6 = df6.loc[:, ['essay_set','essay','domain1_score']]\n",
        "df7 = df7.loc[:, ['essay_set','essay','domain1_score']]\n",
        "df8 = df8.loc[:, ['essay_set','essay','domain1_score']]"
      ]
    },
    {
      "cell_type": "markdown",
      "source": [
        "## Normalizing every score out of 10\n"
      ],
      "metadata": {
        "id": "I1fyF0k6CrQT"
      }
    },
    {
      "cell_type": "code",
      "source": [
        "for i in df1.index:\n",
        "    df1.at[i,\"final_score\"] = int(round(df1.at[i,\"domain1_score\"]-2))"
      ],
      "metadata": {
        "id": "N8wQaPgDHA1w"
      },
      "execution_count": null,
      "outputs": []
    },
    {
      "cell_type": "code",
      "source": [
        "for i in df2.index:\n",
        "    a = int((df2.at[i,\"domain1_score\"]-1)*2)\n",
        "    b = int(round((df2.at[i,\"domain2_score\"]-1)*2.5))\n",
        "    df2.at[i,\"final_score\"] = int(round(a*0.5 + b*0.5))"
      ],
      "metadata": {
        "id": "2bJKgEzTJc_D"
      },
      "execution_count": null,
      "outputs": []
    },
    {
      "cell_type": "code",
      "source": [
        "for i in df3.index:\n",
        "    df3.at[i,\"final_score\"] = int(round(df3.at[i,\"domain1_score\"]*10/3))"
      ],
      "metadata": {
        "id": "YRBo7By_HlGD"
      },
      "execution_count": null,
      "outputs": []
    },
    {
      "cell_type": "code",
      "source": [
        "for i in df4.index:\n",
        "    df4.at[i,\"final_score\"] = int(round(df4.at[i,\"domain1_score\"]*10/3))"
      ],
      "metadata": {
        "id": "9n70vCAkJf-r"
      },
      "execution_count": null,
      "outputs": []
    },
    {
      "cell_type": "code",
      "source": [
        "for i in df5.index:\n",
        "    df5.at[i,\"final_score\"] = int(round(df5.at[i,\"domain1_score\"]*10/4))"
      ],
      "metadata": {
        "id": "iUHTAatWKTqG"
      },
      "execution_count": null,
      "outputs": []
    },
    {
      "cell_type": "code",
      "source": [
        "for i in df6.index:\n",
        "    df6.at[i,\"final_score\"] = int(round(df6.at[i,\"domain1_score\"]*10/4))"
      ],
      "metadata": {
        "id": "3iXDoRbTKWZH"
      },
      "execution_count": null,
      "outputs": []
    },
    {
      "cell_type": "code",
      "source": [
        "for i in df7.index:\n",
        "    df7.at[i,\"final_score\"] = int(round(df7.at[i,\"domain1_score\"]*10/30))"
      ],
      "metadata": {
        "id": "BEISQRq3KZll"
      },
      "execution_count": null,
      "outputs": []
    },
    {
      "cell_type": "code",
      "source": [
        "for i in df8.index:\n",
        "    df8.at[i,\"final_score\"] = int(round(df8.at[i,\"domain1_score\"]*10/60))"
      ],
      "metadata": {
        "id": "U35LqgHHKdQw"
      },
      "execution_count": null,
      "outputs": []
    },
    {
      "cell_type": "code",
      "source": [
        "df1.to_csv('Training_Data/data1.csv', index = False)\n",
        "df2.to_csv('Training_Data/data2.csv', index = False)\n",
        "df3.to_csv('Training_Data/data3.csv', index = False)\n",
        "df4.to_csv('Training_Data/data4.csv', index = False)\n",
        "df5.to_csv('Training_Data/data5.csv', index = False)\n",
        "df6.to_csv('Training_Data/data6.csv', index = False)\n",
        "df7.to_csv('Training_Data/data7.csv', index = False)\n",
        "df8.to_csv('Training_Data/data8.csv', index = False)"
      ],
      "metadata": {
        "id": "smT408Lbu5-i"
      },
      "execution_count": null,
      "outputs": []
    }
  ],
  "metadata": {
    "colab": {
      "provenance": []
    },
    "gpuClass": "standard",
    "kernelspec": {
      "display_name": "Python 3",
      "name": "python3"
    },
    "language_info": {
      "name": "python"
    }
  },
  "nbformat": 4,
  "nbformat_minor": 0
}
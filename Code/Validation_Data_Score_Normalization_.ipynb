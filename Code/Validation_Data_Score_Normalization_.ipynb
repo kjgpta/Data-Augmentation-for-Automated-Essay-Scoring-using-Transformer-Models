{
  "nbformat": 4,
  "nbformat_minor": 0,
  "metadata": {
    "colab": {
      "provenance": []
    },
    "kernelspec": {
      "name": "python3",
      "display_name": "Python 3"
    },
    "language_info": {
      "name": "python"
    },
    "accelerator": "GPU",
    "gpuClass": "standard"
  },
  "cells": [
    {
      "cell_type": "code",
      "source": [
        "import pandas as pd"
      ],
      "metadata": {
        "id": "KV9hqj_htGfL"
      },
      "execution_count": null,
      "outputs": []
    },
    {
      "cell_type": "markdown",
      "source": [
        "# Extracting each essay from the Validation set and its score"
      ],
      "metadata": {
        "id": "6P00CJDEEr_f"
      }
    },
    {
      "cell_type": "code",
      "source": [
        "df = pd.read_csv('valid_set.csv')\n",
        "pf = pd.read_csv('valid_sample_submission.csv')"
      ],
      "metadata": {
        "id": "_TxBd3estJWB"
      },
      "execution_count": null,
      "outputs": []
    },
    {
      "cell_type": "code",
      "source": [
        "df1 = df[df[\"essay_set\"] == 1]\n",
        "df2 = df[df[\"essay_set\"] == 2]\n",
        "df3 = df[df[\"essay_set\"] == 3]\n",
        "df4 = df[df[\"essay_set\"] == 4]\n",
        "df5 = df[df[\"essay_set\"] == 5]\n",
        "df6 = df[df[\"essay_set\"] == 6]\n",
        "df7 = df[df[\"essay_set\"] == 7]\n",
        "df8 = df[df[\"essay_set\"] == 8]"
      ],
      "metadata": {
        "id": "k3JgP3XItLEM"
      },
      "execution_count": null,
      "outputs": []
    },
    {
      "cell_type": "code",
      "source": [
        "pf1 = pf[pf[\"essay_set\"] == 1]\n",
        "pf2 = pf[pf[\"essay_set\"] == 2]\n",
        "pf3 = pf[pf[\"essay_set\"] == 3]\n",
        "pf4 = pf[pf[\"essay_set\"] == 4]\n",
        "pf5 = pf[pf[\"essay_set\"] == 5]\n",
        "pf6 = pf[pf[\"essay_set\"] == 6]\n",
        "pf7 = pf[pf[\"essay_set\"] == 7]\n",
        "pf8 = pf[pf[\"essay_set\"] == 8]"
      ],
      "metadata": {
        "id": "QIgt9welrBkq"
      },
      "execution_count": null,
      "outputs": []
    },
    {
      "cell_type": "code",
      "source": [
        "df1 = df1.loc[:, ['essay_set','essay','domain1_predictionid']]\n",
        "df2 = df2.loc[:, ['essay_set','essay','domain1_predictionid','domain2_predictionid']]\n",
        "df3 = df3.loc[:, ['essay_set','essay','domain1_predictionid']]\n",
        "df4 = df4.loc[:, ['essay_set','essay','domain1_predictionid']]\n",
        "df5 = df5.loc[:, ['essay_set','essay','domain1_predictionid']]\n",
        "df6 = df6.loc[:, ['essay_set','essay','domain1_predictionid']]\n",
        "df7 = df7.loc[:, ['essay_set','essay','domain1_predictionid']]\n",
        "df8 = df8.loc[:, ['essay_set','essay','domain1_predictionid']]"
      ],
      "metadata": {
        "id": "EzKtUoRdtOQW"
      },
      "execution_count": null,
      "outputs": []
    },
    {
      "cell_type": "code",
      "source": [
        "pf1 = pf1.loc[:, ['prediction_id','essay_weight', 'predicted_score']]\n",
        "pf2 = pf2.loc[:, ['prediction_id','essay_weight', 'predicted_score']]\n",
        "pf3 = pf3.loc[:, ['prediction_id','essay_weight', 'predicted_score']]\n",
        "pf4 = pf4.loc[:, ['prediction_id','essay_weight', 'predicted_score']]\n",
        "pf5 = pf5.loc[:, ['prediction_id','essay_weight', 'predicted_score']]\n",
        "pf6 = pf6.loc[:, ['prediction_id','essay_weight', 'predicted_score']]\n",
        "pf7 = pf7.loc[:, ['prediction_id','essay_weight', 'predicted_score']]\n",
        "pf8 = pf8.loc[:, ['prediction_id','essay_weight', 'predicted_score']]"
      ],
      "metadata": {
        "id": "mLREQB0IsN4l"
      },
      "execution_count": null,
      "outputs": []
    },
    {
      "cell_type": "code",
      "source": [
        "for i in df1.index:\n",
        "    if df1.at[i,\"domain1_predictionid\"] == pf1.at[i,\"prediction_id\"]:\n",
        "        df1.at[i,\"domain1_score\"] = pf1.at[i,\"predicted_score\"]"
      ],
      "metadata": {
        "id": "Xfo-ITq-xCQS"
      },
      "execution_count": null,
      "outputs": []
    },
    {
      "cell_type": "code",
      "source": [
        "j = pf2.index[0]\n",
        "for i in df2.index:\n",
        "    if df2.at[i,\"domain1_predictionid\"] == pf2.at[j,\"prediction_id\"]:\n",
        "        df2.at[i,\"domain1_score\"] = pf2.at[j,\"predicted_score\"]\n",
        "        j += 1\n",
        "    else:\n",
        "        print(\"error1\")\n",
        "    if df2.at[i,\"domain2_predictionid\"] == pf2.at[j,\"prediction_id\"]:\n",
        "        df2.at[i,\"domain2_score\"] = pf2.at[j,\"predicted_score\"]\n",
        "        j += 1\n",
        "    else:\n",
        "        print(\"error\")"
      ],
      "metadata": {
        "id": "ssWo2augxjuh"
      },
      "execution_count": null,
      "outputs": []
    },
    {
      "cell_type": "code",
      "source": [
        "j = pf3.index[0]\n",
        "for i in df3.index:\n",
        "    if df3.at[i,\"domain1_predictionid\"] == pf3.at[j,\"prediction_id\"]:\n",
        "        df3.at[i,\"domain1_score\"] = pf3.at[j,\"predicted_score\"]\n",
        "        j += 1"
      ],
      "metadata": {
        "id": "9y_4jUIP0YXU"
      },
      "execution_count": null,
      "outputs": []
    },
    {
      "cell_type": "code",
      "source": [
        "j = pf4.index[0]\n",
        "for i in df4.index:\n",
        "    if df4.at[i,\"domain1_predictionid\"] == pf4.at[j,\"prediction_id\"]:\n",
        "        df4.at[i,\"domain1_score\"] = pf4.at[j,\"predicted_score\"]\n",
        "        j += 1"
      ],
      "metadata": {
        "id": "ni_Z3-SeCLBb"
      },
      "execution_count": null,
      "outputs": []
    },
    {
      "cell_type": "code",
      "source": [
        "j = pf5.index[0]\n",
        "for i in df5.index:\n",
        "    if df5.at[i,\"domain1_predictionid\"] == pf5.at[j,\"prediction_id\"]:\n",
        "        df5.at[i,\"domain1_score\"] = pf5.at[j,\"predicted_score\"]\n",
        "        j += 1"
      ],
      "metadata": {
        "id": "PzZ-uKbWCids"
      },
      "execution_count": null,
      "outputs": []
    },
    {
      "cell_type": "code",
      "source": [
        "j = pf6.index[0]\n",
        "for i in df6.index:\n",
        "    if df6.at[i,\"domain1_predictionid\"] == pf6.at[j,\"prediction_id\"]:\n",
        "        df6.at[i,\"domain1_score\"] = pf6.at[j,\"predicted_score\"]\n",
        "        j += 1"
      ],
      "metadata": {
        "id": "wNvTigusCj-2"
      },
      "execution_count": null,
      "outputs": []
    },
    {
      "cell_type": "code",
      "source": [
        "j = pf7.index[0]\n",
        "for i in df7.index:\n",
        "    if df7.at[i,\"domain1_predictionid\"] == pf7.at[j,\"prediction_id\"]:\n",
        "        df7.at[i,\"domain1_score\"] = pf7.at[j,\"predicted_score\"]\n",
        "        j += 1"
      ],
      "metadata": {
        "id": "vVWJs5oiCk7R"
      },
      "execution_count": null,
      "outputs": []
    },
    {
      "cell_type": "code",
      "source": [
        "j = pf8.index[0]\n",
        "for i in df8.index:\n",
        "    if df8.at[i,\"domain1_predictionid\"] == pf8.at[j,\"prediction_id\"]:\n",
        "        df8.at[i,\"domain1_score\"] = pf8.at[j,\"predicted_score\"]\n",
        "        j += 1"
      ],
      "metadata": {
        "id": "89Qq9hWLCwOl"
      },
      "execution_count": null,
      "outputs": []
    },
    {
      "cell_type": "code",
      "source": [
        "df1 = df1.loc[:, ['essay_set','essay','domain1_score']]\n",
        "df2 = df2.loc[:, ['essay_set','essay','domain1_score','domain2_score']]\n",
        "df3 = df3.loc[:, ['essay_set','essay','domain1_score']]\n",
        "df4 = df4.loc[:, ['essay_set','essay','domain1_score']]\n",
        "df5 = df5.loc[:, ['essay_set','essay','domain1_score']]\n",
        "df6 = df6.loc[:, ['essay_set','essay','domain1_score']]\n",
        "df7 = df7.loc[:, ['essay_set','essay','domain1_score']]\n",
        "df8 = df8.loc[:, ['essay_set','essay','domain1_score']]"
      ],
      "metadata": {
        "id": "ghTlQmv0C7kj"
      },
      "execution_count": null,
      "outputs": []
    },
    {
      "cell_type": "markdown",
      "source": [
        "## Normalizing every score out of 10"
      ],
      "metadata": {
        "id": "l7mjFRfFE2Jm"
      }
    },
    {
      "cell_type": "code",
      "source": [
        "for i in df1.index:\n",
        "    df1.at[i,\"final_score\"] = int(round(df1.at[i,\"domain1_score\"]-2))"
      ],
      "metadata": {
        "id": "7wV-ZcKKtQjQ"
      },
      "execution_count": null,
      "outputs": []
    },
    {
      "cell_type": "code",
      "source": [
        "for i in df2.index:\n",
        "    a = int((df2.at[i,\"domain1_score\"]-1)*2)\n",
        "    b = int(round((df2.at[i,\"domain2_score\"]-1)*2.5))\n",
        "    df2.at[i,\"final_score\"] = int(round(a*0.5 + b*0.5))"
      ],
      "metadata": {
        "id": "wyG2B0sEtTfE"
      },
      "execution_count": null,
      "outputs": []
    },
    {
      "cell_type": "code",
      "source": [
        "for i in df3.index:\n",
        "    df3.at[i,\"final_score\"] = int(round(df3.at[i,\"domain1_score\"]*10/3))"
      ],
      "metadata": {
        "id": "6X1t_-3htVbk"
      },
      "execution_count": null,
      "outputs": []
    },
    {
      "cell_type": "code",
      "source": [
        "for i in df4.index:\n",
        "    df4.at[i,\"final_score\"] = int(round(df4.at[i,\"domain1_score\"]*10/3))"
      ],
      "metadata": {
        "id": "iXZxVNlXtYkZ"
      },
      "execution_count": null,
      "outputs": []
    },
    {
      "cell_type": "code",
      "source": [
        "for i in df5.index:\n",
        "    df5.at[i,\"final_score\"] = int(round(df5.at[i,\"domain1_score\"]*10/4))"
      ],
      "metadata": {
        "id": "Xz-6ENUdtbuQ"
      },
      "execution_count": null,
      "outputs": []
    },
    {
      "cell_type": "code",
      "source": [
        "for i in df6.index:\n",
        "    df6.at[i,\"final_score\"] = int(round(df6.at[i,\"domain1_score\"]*10/4))"
      ],
      "metadata": {
        "id": "F911OtOPtdnG"
      },
      "execution_count": null,
      "outputs": []
    },
    {
      "cell_type": "code",
      "source": [
        "for i in df7.index:\n",
        "    df7.at[i,\"final_score\"] = int(round(df7.at[i,\"domain1_score\"]*10/30))"
      ],
      "metadata": {
        "id": "mYpCZgM4thUb"
      },
      "execution_count": null,
      "outputs": []
    },
    {
      "cell_type": "code",
      "source": [
        "for i in df8.index:\n",
        "    df8.at[i,\"final_score\"] = int(round(df8.at[i,\"domain1_score\"]*10/60))"
      ],
      "metadata": {
        "id": "HAda4Cn4tjds"
      },
      "execution_count": null,
      "outputs": []
    },
    {
      "cell_type": "code",
      "source": [
        "df1.to_csv('Validation_Data/data1.csv', index = False)\n",
        "df2.to_csv('Validation_Data/data2.csv', index = False)\n",
        "df3.to_csv('Validation_Data/data3.csv', index = False)\n",
        "df4.to_csv('Validation_Data/data4.csv', index = False)\n",
        "df5.to_csv('Validation_Data/data5.csv', index = False)\n",
        "df6.to_csv('Validation_Data/data6.csv', index = False)\n",
        "df7.to_csv('Validation_Data/data7.csv', index = False)\n",
        "df8.to_csv('Validation_Data/data8.csv', index = False)"
      ],
      "metadata": {
        "id": "UNexbYuqtlwV"
      },
      "execution_count": null,
      "outputs": []
    }
  ]
}